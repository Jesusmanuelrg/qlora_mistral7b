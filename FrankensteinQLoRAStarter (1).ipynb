{
  "cells": [
    {
      "cell_type": "markdown",
      "metadata": {
        "id": "Y6vfwwCkwUU1"
      },
      "source": [
        "## Installation"
      ]
    },
    {
      "cell_type": "code",
      "execution_count": null,
      "metadata": {
        "id": "mhqisWYgnpZr"
      },
      "outputs": [],
      "source": [
        "!pip install -qU bitsandbytes transformers peft accelerate datasets pandas torch"
      ]
    },
    {
      "cell_type": "code",
      "execution_count": 2,
      "metadata": {
        "id": "pAJoMqj3B_y8"
      },
      "outputs": [],
      "source": [
        "import random\n",
        "import torch\n",
        "import pandas as pd\n",
        "from datasets import Dataset\n",
        "import peft\n",
        "from transformers import AutoTokenizer, AutoModelForCausalLM, BitsAndBytesConfig\n",
        "\n",
        "def set_seed(seed=42):\n",
        "    random.seed(seed)\n",
        "    torch.manual_seed(seed)\n",
        "\n",
        "set_seed()"
      ]
    },
    {
      "cell_type": "markdown",
      "metadata": {
        "id": "784wEoZ3XfKt"
      },
      "source": [
        "## Exploring the data"
      ]
    },
    {
      "cell_type": "code",
      "execution_count": null,
      "metadata": {
        "id": "J5dsWhGCB_zF"
      },
      "outputs": [],
      "source": [
        "df = pd.read_csv(\"frankenstein_chunks.csv\")"
      ]
    },
    {
      "cell_type": "code",
      "execution_count": null,
      "metadata": {
        "id": "yeZZ59rEZxvY"
      },
      "outputs": [],
      "source": [
        "print(\"Dataframe Info:\")\n",
        "print(df.info())\n",
        "print(\"\\n\")\n",
        "print(\"Dataframe Description:\")\n",
        "print(df.describe())\n",
        "print(\"\\n\")\n",
        "print(\"Number of unique values in each column:\")\n",
        "print(df.nunique())\n",
        "\n",
        "print(df.isnull().sum())"
      ]
    },
    {
      "cell_type": "code",
      "execution_count": 7,
      "metadata": {
        "id": "dYkwTOqQlHNd"
      },
      "outputs": [],
      "source": [
        "from sklearn.model_selection import train_test_split\n",
        "train_df, test_df = train_test_split(df, test_size=0.2)\n",
        "\n",
        "train_dataset = Dataset.from_pandas(train_df)\n",
        "test_dataset = Dataset.from_pandas(test_df)"
      ]
    },
    {
      "cell_type": "markdown",
      "metadata": {
        "id": "kObQJA4sXdIq"
      },
      "source": [
        "## Tokenizing"
      ]
    },
    {
      "cell_type": "code",
      "source": [
        "model_name = 'mistralai/Mistral-7B-v0.1'"
      ],
      "metadata": {
        "id": "9K1HvIJeJuQJ"
      },
      "execution_count": null,
      "outputs": []
    },
    {
      "cell_type": "code",
      "source": [
        "from huggingface_hub import login\n",
        "\n",
        "login(token=\"<HF_API_TOKEN>\")"
      ],
      "metadata": {
        "id": "qbFbGlP7Y_3S"
      },
      "execution_count": null,
      "outputs": []
    },
    {
      "cell_type": "code",
      "execution_count": null,
      "metadata": {
        "id": "xFg2ZsKupHBE"
      },
      "outputs": [],
      "source": [
        "quant_config = BitsAndBytesConfig(\n",
        "    load_in_4bit=True,\n",
        "    bnb_4bit_use_double_quant=True,\n",
        "    bnb_4bit_quant_type='nf4',\n",
        "    bnb_4bit_compute_dtype=torch.bfloat16,\n",
        ")\n",
        "model = AutoModelForCausalLM.from_pretrained(model_name, quantization_config=quant_config)\n",
        "\n",
        "print(f\"Running on: {torch.device(\"cuda\" if torch.cuda.is_available() else \"cpu\")}\")"
      ]
    },
    {
      "cell_type": "code",
      "execution_count": null,
      "metadata": {
        "id": "O6kwn8qlpwnU"
      },
      "outputs": [],
      "source": [
        "from peft import prepare_model_for_kbit_training, LoraConfig, get_peft_model\n",
        "\n",
        "model = prepare_model_for_kbit_training(model)\n",
        "config = LoraConfig(\n",
        "    r=32,\n",
        "    lora_alpha=64, # This number is usually double the parameter \"r\".\n",
        "    lora_dropout=0.05,\n",
        "    task_type=\"CAUSAL_LM\",\n",
        ")\n",
        "\n",
        "def tokenize_function(examples):\n",
        "    return tokenizer(examples[\"text\"])\n",
        "\n",
        "model = get_peft_model(model, config)\n",
        "tokenizer = AutoTokenizer.from_pretrained(model_name)\n",
        "tokenized_train_dataset= train_dataset.map(tokenize_function, batched=True)\n",
        "tokenized_test_dataset = test_dataset.map(tokenize_function, batched=True)"
      ]
    },
    {
      "cell_type": "markdown",
      "metadata": {
        "id": "-wojUYNXdHRD"
      },
      "source": [
        "## Base Model Performance"
      ]
    },
    {
      "cell_type": "code",
      "execution_count": 22,
      "metadata": {
        "id": "-h2SUXAILft8"
      },
      "outputs": [],
      "source": [
        "def generate_text(prompt):\n",
        "  device = \"cuda\"\n",
        "  inputs = tokenizer(prompt, return_tensors=\"pt\").to(device)\n",
        "  outputs = model.generate(**inputs, max_new_tokens=100)\n",
        "  output = tokenizer.decode(outputs[0], skip_special_tokens=True)\n",
        "  return output"
      ]
    },
    {
      "cell_type": "code",
      "execution_count": null,
      "metadata": {
        "id": "sRyYRTVICSVf"
      },
      "outputs": [],
      "source": [
        "base_generation = generate_text(\"I'm afraid I've created a \")\n",
        "print(base_generation)"
      ]
    },
    {
      "cell_type": "code",
      "execution_count": null,
      "metadata": {
        "id": "kwwvV0_xdJHf"
      },
      "outputs": [],
      "source": [
        "def calc_perplexity(model):\n",
        "  total_perplexity = 0\n",
        "  for row in test_dataset:\n",
        "    inputs = tokenizer(row['text'], return_tensors=\"pt\")\n",
        "    input_ids = inputs[\"input_ids\"]\n",
        "\n",
        "    with torch.no_grad():\n",
        "        outputs = model(**inputs, labels=input_ids)\n",
        "\n",
        "    loss = outputs.loss\n",
        "    perplexity = torch.exp(loss)\n",
        "    total_perplexity += perplexity\n",
        "\n",
        "  num_test_rows = len(test_dataset)\n",
        "  avg_perplexity = total_perplexity / num_test_rows\n",
        "  return avg_perplexity\n",
        "\n",
        "base_ppl = calc_perplexity(model)\n",
        "print(f\"The perplexity score is: {base_ppl}\")"
      ]
    },
    {
      "cell_type": "markdown",
      "metadata": {
        "id": "rkZFOmpStML4"
      },
      "source": [
        "## Finetuning"
      ]
    },
    {
      "cell_type": "code",
      "execution_count": null,
      "metadata": {
        "id": "TlykrY27qThu"
      },
      "outputs": [],
      "source": [
        "import transformers\n",
        "\n",
        "tokenizer.pad_token = tokenizer.eos_token\n",
        "model.config.use_cache = False\n",
        "\n",
        "trainer = transformers.Trainer(\n",
        "    model=model,\n",
        "    train_dataset=tokenized_train_dataset,\n",
        "    args=transformers.TrainingArguments(\n",
        "        warmup_steps=2,\n",
        "        fp16=True,\n",
        "        logging_steps=1,\n",
        "        save_steps=200,\n",
        "        output_dir=\"outputs\",\n",
        "        per_device_train_batch_size=2,\n",
        "        num_train_epochs=2,\n",
        "        learning_rate=2e-5,\n",
        "        optim=\"paged_adamw_8bit\",\n",
        "    ),\n",
        "    data_collator=transformers.DataCollatorForLanguageModeling(tokenizer, mlm=False),\n",
        ")\n",
        "\n",
        "trainer.train()"
      ]
    },
    {
      "cell_type": "markdown",
      "metadata": {
        "id": "DuIyfyYJq4yB"
      },
      "source": [
        "## Final Result"
      ]
    },
    {
      "cell_type": "code",
      "execution_count": null,
      "metadata": {
        "id": "JG6D3Zm2cBEa"
      },
      "outputs": [],
      "source": [
        "ft_generation = generate_text(\"I'm afraid I've created a \")\n",
        "\n",
        "print(\"Finetuned generation: \" + ft_generation)"
      ]
    },
    {
      "cell_type": "markdown",
      "source": [
        "## Perplexity Score"
      ],
      "metadata": {
        "id": "ySDPMl_qKkvK"
      }
    },
    {
      "cell_type": "code",
      "execution_count": null,
      "metadata": {
        "id": "SSngfXmyl2C1"
      },
      "outputs": [],
      "source": [
        "ft_ppl = calc_perplexity(model)\n",
        "print(\"Base model perplexity: \" + str(base_ppl))\n",
        "print(\"Finetuned model perplexity: \" + str(ft_ppl))"
      ]
    }
  ],
  "metadata": {
    "colab": {
      "provenance": []
    },
    "kernelspec": {
      "display_name": "Python 3",
      "name": "python3"
    },
    "language_info": {
      "codemirror_mode": {
        "name": "ipython",
        "version": 3
      },
      "file_extension": ".py",
      "mimetype": "text/x-python",
      "name": "python",
      "nbconvert_exporter": "python",
      "pygments_lexer": "ipython3",
      "version": "3.10.12"
    }
  },
  "nbformat": 4,
  "nbformat_minor": 0
}